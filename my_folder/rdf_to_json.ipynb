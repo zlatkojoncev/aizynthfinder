{
 "cells": [
  {
   "cell_type": "code",
   "execution_count": 2,
   "metadata": {},
   "outputs": [
    {
     "ename": "AttributeError",
     "evalue": "module 'rxnutils.chem' has no attribute 'load_rdf'",
     "output_type": "error",
     "traceback": [
      "\u001b[0;31m---------------------------------------------------------------------------\u001b[0m",
      "\u001b[0;31mAttributeError\u001b[0m                            Traceback (most recent call last)",
      "\u001b[1;32m/home/joncev/git/aizynthfinder/my_folder/rdf_to_json.ipynb Cell 1\u001b[0m line \u001b[0;36m5\n\u001b[1;32m      <a href='vscode-notebook-cell://ssh-remote%2Bliacpc18.epfl.ch/home/joncev/git/aizynthfinder/my_folder/rdf_to_json.ipynb#W0sdnNjb2RlLXJlbW90ZQ%3D%3D?line=1'>2</a>\u001b[0m \u001b[39mfrom\u001b[39;00m \u001b[39mrxnutils\u001b[39;00m \u001b[39mimport\u001b[39;00m chem, routes\n\u001b[1;32m      <a href='vscode-notebook-cell://ssh-remote%2Bliacpc18.epfl.ch/home/joncev/git/aizynthfinder/my_folder/rdf_to_json.ipynb#W0sdnNjb2RlLXJlbW90ZQ%3D%3D?line=3'>4</a>\u001b[0m \u001b[39m# Step 1: Load RDF file\u001b[39;00m\n\u001b[0;32m----> <a href='vscode-notebook-cell://ssh-remote%2Bliacpc18.epfl.ch/home/joncev/git/aizynthfinder/my_folder/rdf_to_json.ipynb#W0sdnNjb2RlLXJlbW90ZQ%3D%3D?line=4'>5</a>\u001b[0m rdf_data \u001b[39m=\u001b[39m chem\u001b[39m.\u001b[39;49mload_rdf(\u001b[39m'\u001b[39m\u001b[39m/home/joncev/git/aizynthfinder/my_folder/Roth_1991_Chiral_aux_via_Claisen.rdf\u001b[39m\u001b[39m'\u001b[39m)\n\u001b[1;32m      <a href='vscode-notebook-cell://ssh-remote%2Bliacpc18.epfl.ch/home/joncev/git/aizynthfinder/my_folder/rdf_to_json.ipynb#W0sdnNjb2RlLXJlbW90ZQ%3D%3D?line=6'>7</a>\u001b[0m \u001b[39m# Step 2: Extract reaction data\u001b[39;00m\n\u001b[1;32m      <a href='vscode-notebook-cell://ssh-remote%2Bliacpc18.epfl.ch/home/joncev/git/aizynthfinder/my_folder/rdf_to_json.ipynb#W0sdnNjb2RlLXJlbW90ZQ%3D%3D?line=7'>8</a>\u001b[0m reactions \u001b[39m=\u001b[39m chem\u001b[39m.\u001b[39mextract_reactions(rdf_data)\n",
      "\u001b[0;31mAttributeError\u001b[0m: module 'rxnutils.chem' has no attribute 'load_rdf'"
     ]
    }
   ],
   "source": [
    "import json\n",
    "from rxnutils import chem, routes\n",
    "from rxnutils import rxnutils.routes.readers\n",
    "\n",
    "# Step 1: Load RDF file\n",
    "rdf_data = chem.load_rdf('/home/joncev/git/aizynthfinder/my_folder/Roth_1991_Chiral_aux_via_Claisen.rdf')\n",
    "\n",
    "# Step 2: Extract reaction data\n",
    "reactions = rxnutils.routes.readers.read_rdf_file(filename)¶\n",
    "\n",
    "\n",
    "# Step 3: Convert to synthetic routes\n",
    "synthetic_routes = routes.convert_to_routes(reactions)\n",
    "\n",
    "# Step 4: Save as JSON\n",
    "with open('test.json', 'w') as json_file:\n",
    "    json.dump(synthetic_routes, json_file)\n"
   ]
  }
 ],
 "metadata": {
  "kernelspec": {
   "display_name": "aizynth-dev",
   "language": "python",
   "name": "python3"
  },
  "language_info": {
   "codemirror_mode": {
    "name": "ipython",
    "version": 3
   },
   "file_extension": ".py",
   "mimetype": "text/x-python",
   "name": "python",
   "nbconvert_exporter": "python",
   "pygments_lexer": "ipython3",
   "version": "3.10.14"
  }
 },
 "nbformat": 4,
 "nbformat_minor": 2
}
